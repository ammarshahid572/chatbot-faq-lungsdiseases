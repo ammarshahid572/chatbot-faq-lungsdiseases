{
 "cells": [
  {
   "cell_type": "code",
   "execution_count": 18,
   "metadata": {},
   "outputs": [],
   "source": [
    "diseases=['covid' , 'tuberculosis', 'asthma']\n",
    "context1=['diagnosis', 'medications','types', 'facts']\n",
    "context2=['sideeffects', 'preparation', 'duration']\n",
    "\n",
    "\n",
    "diseasesKeywords= {\n",
    "    \"covid\": [\"covid\", \"covid-19\", \"covid19\", \"sars-cov\"],\n",
    "    \"tuberculosis\": ['tuberculosis', 'tb'],\n",
    "    \"asthma\" : [\"asthma\"],\n",
    "    \"nocontext\": [\"\"]\n",
    "}\n",
    "context1 = {\n",
    "    \"diagnosis\":[\"if i have\", \"if he has\", \"if she has\", \"if they have\", \"diagnosis\"],\n",
    "    \"medications\": [\"treatment\", \"medications\", \"medicine\"],\n",
    "    \"types\":[\"types\", \"variants\", \"stages\"],\n",
    "    \"facts\":[\"what is that?\",\"tell me\", \"when did\", \"what happens\"],\n",
    "    \"nocontext\":[\"\"]\n",
    "}\n",
    "\n",
    "context2= {\n",
    "    \"sideeffects\":[\"side effects\", \"careful\", \"effects\"],\n",
    "    \"preparation\":[\"preparation\", \"prepare for\", \"requirements\"],\n",
    "    \"duration\": [\"how long\", \"duration\"],\n",
    "    \"nocontext\":[\"\"]\n",
    "}"
   ]
  },
  {
   "cell_type": "code",
   "execution_count": 33,
   "metadata": {},
   "outputs": [],
   "source": [
    "def printContext(text):\n",
    "    diseaseaseContext=\"nocontext\"\n",
    "    contexta=\"nocontext\"\n",
    "    contextb=\"nocontext\"\n",
    "    for key in diseasesKeywords:\n",
    "        for keyword in diseasesKeywords[key]:\n",
    "            if keyword in text:\n",
    "                diseaseaseContext=key\n",
    "                break\n",
    "        else:\n",
    "            continue\n",
    "        break\n",
    "    for key in context1:\n",
    "        for keyword in context1[key]:\n",
    "            if keyword in text:\n",
    "                contexta=key\n",
    "                break\n",
    "        else:\n",
    "            continue\n",
    "        break\n",
    "    for key in context2:\n",
    "        for keyword in context2[key]:\n",
    "            if keyword in text:\n",
    "                contextb=key\n",
    "                break\n",
    "        else:\n",
    "            continue\n",
    "        break\n",
    "    return(diseaseaseContext, contexta, contextb)"
   ]
  },
  {
   "cell_type": "code",
   "execution_count": 39,
   "metadata": {},
   "outputs": [],
   "source": [
    "count=0\n",
    "count= len(diseases)*len(context1)*len(context2)\n",
    "print(count)\n",
    "        "
   ]
  }
 ],
 "metadata": {
  "interpreter": {
   "hash": "1df8ee6452e1678db1e0875977bd5400d1d78639c0014c45e3c78604e6a7f149"
  },
  "kernelspec": {
   "display_name": "Python 3.9.12 64-bit",
   "language": "python",
   "name": "python3"
  },
  "language_info": {
   "codemirror_mode": {
    "name": "ipython",
    "version": 3
   },
   "file_extension": ".py",
   "mimetype": "text/x-python",
   "name": "python",
   "nbconvert_exporter": "python",
   "pygments_lexer": "ipython3",
   "version": "3.9.12"
  },
  "orig_nbformat": 4
 },
 "nbformat": 4,
 "nbformat_minor": 2
}
