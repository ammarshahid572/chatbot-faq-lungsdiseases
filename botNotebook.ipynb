{
 "cells": [
  {
   "cell_type": "code",
   "execution_count": 2,
   "metadata": {},
   "outputs": [],
   "source": [
    "\n",
    "mainQuery= {\n",
    "    \"greeting\": [\"hi\", \"hello\", \"how are you?\"],\n",
    "    \"covid\": [\"covid\", \"covid-19\", \"covid19\", \"sars-cov\"],\n",
    "    \"tuberculosis\": ['tuberculosis', 'tb'],\n",
    "    \"asthma\" : [\"asthma\"],\n",
    "    \"nocontext\": [\"\"],\n",
    "    \"endNote\": [\"Thank you\", \"This was helpful!\", \"See you later!\"]\n",
    "}\n",
    "context1 = {\n",
    "    \"diagnosis\":[\"if i have\", \"if he has\", \"if she has\", \"if they have\", \"diagnosis\"],\n",
    "    \"medications\": [\"treatment\", \"medications\", \"medicine\"],\n",
    "    \"symptoms\":[\"symptoms\"],\n",
    "    \"types\":[\"types\", \"variants\", \"stages\"],\n",
    "    \"nocontext\":[\"\"]\n",
    "}\n",
    "\n",
    "context2= {\n",
    "    \"sideeffects\":[\"side effects\", \"careful\", \"effects\"],\n",
    "    \"duration\": [\"how long\", \"duration\"],\n",
    "    \"nocontext\":[\"\"]\n",
    "}\n",
    "\n",
    "actions= {\n",
    "    \"greeting\": [\"Hello\"],\n",
    "    \"whatCanIhelp\":[\"Sure, what can I help you with\"],\n",
    "    \"asthmaDef\": [\"Asthma is a disease that affects your lungs. It is one of the most common long-term diseases of children, but adults can have asthma, too. Asthma causes wheezing, breathlessness, chest tightness, and coughing at night or early in the morning. \"],\n",
    "    \"covidDef\": [\"Coronaviruses are a family of viruses that can cause respiratory illness in humans. They are called “corona” because of crown-like spikes on the surface of the virus.\"],\n",
    "    \"tbDef\": [\"Tuberculosis (TB) is a bacterial infection spread through inhaling tiny droplets from the coughs or sneezes of an infected person. It mainly affects the lungs, but it can affect any part of the body, including the tummy (abdomen), glands, bones and nervous system.\"],\n",
    "    \"endNote\": [\"Thanks for chatting\"],\n",
    "    \"covidDiag\":[\"Covid is most accurately detected using PCR tests.\"],\n",
    "    \"asthmaDiag\":[\"There are 2 main tests to diagnose Asthma: FeNo and Spirometry\"],\n",
    "    \"tbDiag\":[\"There are two basic tests used for TB. TB Skin Test and TB Blood Test.\"],\n",
    "    \"noContext\": [\"Sorry didnt understand the question. please specify in details or try rephrasing.\"],\n",
    "    \"covidvariants\": [\"Sars-Cov-2 has had many circulating virus namely Alpha, Beta, Gamma, Delta and Omicron\"],\n",
    "    \"ashtmavariants\": [\"Asthma has these common types: Allergic Asthma, Non-allergic Asthma, Cough-variant asthma, Noturnal and Occupational Asthma\"],\n",
    "    \"tbvariants\":[\"There are two types of TB conditions: TB disease and latent TB infection. \"],\n",
    "    \"covidMeds\": [\"Scientists around the world are working to find and develop treatments for COVID-19. However preventive vaccinations are commonly available.\"],\n",
    "    \"tbMeds\": [\"The most common treatment for active TB is isoniazid INH in combination with three other drugs—rifampin, pyrazinamide and ethambutol.\"],\n",
    "    \"asthmaMeds\":[\"There's currently no cure for asthma, but treatment can help control the symptoms so you're able to live a normal, active life. Inhalers, which are devices that let you breathe in medicine, are the main treatment. Tablets and other treatments may also be needed if your asthma is severe.\"],\n",
    "    \"asthmaduration\": [\"Asthma symptoms can show up for a few times a month to several times a day/\"],\n",
    "    \"covidDuration\":[\"Generally covid lasts for about 2 weeks.\"],\n",
    "    \"tbduration\": [\"TB treatment can take anywhere between 6 to 9 months\"],\n",
    "    \"asthmaMedSide\": [\"The most common side effects of inhaled preventer medication (inhaled corticosteroids) are a hoarse voice, sore mouth and throat, and fungal infections of the throat. \"],\n",
    "    \"covidMedSide\":[\"Covid Vaccination has minor side effects ranging for mild fever and weakness\"],\n",
    "    \"tbMedSide\":[\"some side effects of TB treatments are itchy skin ,skin rashes, bruising or yellow skin, upset stomach, nausea, vomiting, diarrhoea or loss of appetite\"],\n",
    "    \"asthmaSymptoms\":[\"Asthma attacks signs include wheezing, coughing and chest tightness becoming severe and constant, being too breathless to eat, speak or sleep, drowsiness, confusion, exhaustion or dizziness\"],\n",
    "    \"covidSymptoms\":[\"Most common symptoms of covid are fever, cough, tiredness,loss of taste or smell\"],\n",
    "    \"tbSymptoms\":[\"Some symptoms of TB are a persistent cough that lasts more than 3 weeks and usually brings up phlegm, which may be bloody, weight loss, night sweats, high temperature, tiredness and fatigue.\"],\n",
    "    \"unrelated\": [\"sorry I can only answer for question I am allowed to.\"],\n",
    "}\n"
   ]
  },
  {
   "cell_type": "code",
   "execution_count": 3,
   "metadata": {},
   "outputs": [],
   "source": [
    "diseaseaseContext=\"nocontext\"\n",
    "contexta=\"nocontext\"\n",
    "contextb=\"nocontext\"\n",
    "def getContext(text, prevContext):\n",
    "    text=text.lower()\n",
    "    keys= list(prevContext)\n",
    "    for key in mainQuery:\n",
    "        for keyword in mainQuery[key]:\n",
    "            if keyword.lower() in text:\n",
    "                if key==\"nocontext\":\n",
    "                    continue\n",
    "                keys[0]=key\n",
    "                break\n",
    "        else:\n",
    "            continue\n",
    "        break\n",
    "    for key in context1:\n",
    "        for keyword in context1[key]:\n",
    "            if keyword.lower()  in text:\n",
    "                if key==\"nocontext\":\n",
    "                    continue\n",
    "                keys[3]=key\n",
    "                break\n",
    "        else:\n",
    "            continue\n",
    "        break\n",
    "    for key in context2:\n",
    "        for keyword in context2[key]:\n",
    "            if keyword.lower()  in text:\n",
    "                if key==\"nocontext\":\n",
    "                    continue\n",
    "                keys[4]=key\n",
    "                break\n",
    "        else:\n",
    "            continue\n",
    "        break\n",
    "    return (keys[0], keys[1], keys[2], keys[3], keys[4])\n"
   ]
  },
  {
   "cell_type": "code",
   "execution_count": 4,
   "metadata": {},
   "outputs": [
    {
     "name": "stdout",
     "output_type": "stream",
     "text": [
      "('asthma', 'diagnosis', 'duration', 'nocontext', 'nocontext')\n"
     ]
    }
   ],
   "source": [
    "states= list()\n",
    "for key in sorted(mainQuery):\n",
    "    for context in sorted(context1):\n",
    "        for  intent1 in sorted(context2):\n",
    "            for intents2 in sorted(context1):\n",
    "                for intent3 in sorted(context2):\n",
    "                    states.append((key, context, intent1, intents2, intent3))\n",
    "print(states[7])"
   ]
  },
  {
   "cell_type": "code",
   "execution_count": 5,
   "metadata": {},
   "outputs": [
    {
     "name": "stdout",
     "output_type": "stream",
     "text": [
      "1350\n",
      "26\n"
     ]
    }
   ],
   "source": [
    "print (len(states))\n",
    "print (len(actions))\n",
    "\n"
   ]
  },
  {
   "cell_type": "code",
   "execution_count": 6,
   "metadata": {},
   "outputs": [],
   "source": [
    "import numpy as np\n",
    "\n",
    "#set up  mapping and inverse mapping to find corresponeding state or number\n",
    "numbertoState=dict()\n",
    "statetoNumber=dict()\n",
    "for i,state in enumerate(states):\n",
    "    numbertoState[i]= state\n",
    "    statetoNumber[state]=i\n",
    "numbertoAction=dict()\n",
    "actiontoNumber=dict()\n",
    "for i,action in enumerate(actions):\n",
    "    numbertoAction[i]= action\n",
    "    actiontoNumber[action]=i\n",
    "\n"
   ]
  },
  {
   "cell_type": "code",
   "execution_count": 7,
   "metadata": {},
   "outputs": [
    {
     "name": "stdout",
     "output_type": "stream",
     "text": [
      "(1350, 1350)\n"
     ]
    }
   ],
   "source": [
    "#reward map----- old state to new state reward\n",
    "reward= np.zeros((len(states), len(states)),dtype=float)\n",
    "print(reward.shape)\n",
    "# since we know we have to somehow end the convo. lets set maximum reward if the next state is ending the convo\n",
    "for i,lastState in enumerate(states):\n",
    "    for j,nextState in enumerate(states):\n",
    "        if \"endNote\" in nextState:\n",
    "            reward[i][j] =1\n"
   ]
  },
  {
   "cell_type": "code",
   "execution_count": 8,
   "metadata": {},
   "outputs": [
    {
     "name": "stdout",
     "output_type": "stream",
     "text": [
      "Loaded old backup\n"
     ]
    }
   ],
   "source": [
    "qTable= np.zeros((len(states), len(actions)), dtype=float)\n",
    "with open('test.npy','rb')as f:\n",
    "    f.seek(0)\n",
    "    loadedFile=np.load(f ,allow_pickle=False)\n",
    "    if loadedFile.shape== qTable.shape:\n",
    "        pass\n",
    "        qTable=loadedFile\n",
    "        print(\"Loaded old backup\")"
   ]
  },
  {
   "cell_type": "markdown",
   "metadata": {},
   "source": [
    "Qtable Training"
   ]
  },
  {
   "cell_type": "code",
   "execution_count": 71,
   "metadata": {},
   "outputs": [
    {
     "name": "stdout",
     "output_type": "stream",
     "text": [
      "0.0\n",
      "('greeting', 'nocontext', 'nocontext')\n",
      "['Hello']\n",
      "0.0\n",
      "('covid', 'nocontext', 'nocontext')\n",
      "['Hello']\n",
      "0.0\n",
      "('covid', 'nocontext', 'nocontext')\n",
      "['Hello']\n",
      "0.0\n",
      "('covid', 'nocontext', 'nocontext')\n",
      "['Hello']\n"
     ]
    }
   ],
   "source": [
    "import random\n",
    "#start q learn algo\n",
    "# Initialize parameters\n",
    "gamma = 0.75 # Discount factor \n",
    "alpha = 0.9 # Learning rate \n",
    "epsilon = 0.1\n",
    "next_stateIndex=0\n",
    "stateIndex=0\n",
    "actionNumber=0\n",
    "episodeRun=True\n",
    "reward=0\n",
    "\n",
    "prevContext= (\"nocontext\", \"nocontext\", \"nocontext\")\n",
    "prevState=statetoNumber[prevContext]\n",
    "while episodeRun:\n",
    "\n",
    "    text=input(\"\")\n",
    "    state=getContext(text, numbertoState[prevState])\n",
    "    stateIndex=statetoNumber[state]\n",
    "\n",
    "    next_max = np.max(qTable[stateIndex])\n",
    "    \n",
    "    old_value = qTable[prevState][actionNumber]\n",
    "    print(old_value)\n",
    "    new_value=(1 - alpha) * old_value + alpha * (reward + gamma * next_max)\n",
    "    \n",
    "    qTable[prevState][actionNumber] = new_value\n",
    "\n",
    "    prevState=stateIndex\n",
    "    print(numbertoState[stateIndex])\n",
    "\n",
    "    if np.random.uniform(0, 1) < epsilon:\n",
    "            actionNumber = random.randint(0,len(actions))# Explore action space\n",
    "    else:\n",
    "            actionNumber= np.argmax(qTable[stateIndex]) # Exploit learned values\n",
    "\n",
    "    print(actions[numbertoAction[actionNumber]])\n",
    "        \n",
    "    feedback=input(\"Helpful Y/N? or Quit Q\").lower()\n",
    "    if feedback=='y':\n",
    "        reward=1\n",
    "    elif feedback=='n':\n",
    "        reward=-1\n",
    "    else:\n",
    "        episodeRun=False\n",
    "\n",
    "#print(qTable)\n"
   ]
  },
  {
   "cell_type": "code",
   "execution_count": 9,
   "metadata": {},
   "outputs": [
    {
     "data": {
      "text/plain": [
       "Text(0.5, 1.0, 'Matplotlib PLot NumPy Array')"
      ]
     },
     "execution_count": 9,
     "metadata": {},
     "output_type": "execute_result"
    },
    {
     "data": {
      "image/png": "[encoded data removed]",
      "text/plain": [
       "<Figure size 432x288 with 1 Axes>"
      ]
     },
     "metadata": {
      "needs_background": "light"
     },
     "output_type": "display_data"
    }
   ],
   "source": [
    "#plot the map to see differences\n",
    "import matplotlib.pyplot as plt\n",
    "plt.imshow( qTable, cmap = 'rainbow' , interpolation = 'bilinear')\n",
    "plt.title(\"Matplotlib PLot NumPy Array\") "
   ]
  },
  {
   "cell_type": "code",
   "execution_count": null,
   "metadata": {},
   "outputs": [],
   "source": [
    "with open('test.npy', 'wb') as f:\n",
    "    np.save(f, qTable)"
   ]
  },
  {
   "cell_type": "code",
   "execution_count": 11,
   "metadata": {},
   "outputs": [
    {
     "name": "stdout",
     "output_type": "stream",
     "text": [
      "[0. 0. 0. 0. 0. 0. 0. 0. 0. 0. 0. 0. 0. 0. 0. 0. 0. 0. 0. 0. 0. 0. 0. 0.\n",
      " 0. 0.]\n",
      "('asthma', 'diagnosis', 'sideeffects', 'medications', 'duration')\n",
      "greeting\n"
     ]
    }
   ],
   "source": [
    "print (qTable[100])\n",
    "print(numbertoState[33])\n",
    "print(numbertoAction[np.argmax(qTable[33])])\n"
   ]
  }
 ],
 "metadata": {
  "interpreter": {
   "hash": "1df8ee6452e1678db1e0875977bd5400d1d78639c0014c45e3c78604e6a7f149"
  },
  "kernelspec": {
   "display_name": "Python 3 (ipykernel)",
   "language": "python",
   "name": "python3"
  },
  "language_info": {
   "codemirror_mode": {
    "name": "ipython",
    "version": 3
   },
   "file_extension": ".py",
   "mimetype": "text/x-python",
   "name": "python",
   "nbconvert_exporter": "python",
   "pygments_lexer": "ipython3",
   "version": "3.9.12"
  }
 },
 "nbformat": 4,
 "nbformat_minor": 2
}
