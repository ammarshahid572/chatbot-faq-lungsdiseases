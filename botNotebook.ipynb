{
 "cells": [
  {
   "cell_type": "code",
   "execution_count": 16,
   "metadata": {},
   "outputs": [],
   "source": [
    "\n",
    "mainQuery= {\n",
    "    \"greeting\": [\"Hi\", \"Hello\", \"How are you?\"],\n",
    "    \"covid\": [\"covid\", \"covid-19\", \"covid19\", \"sars-cov\"],\n",
    "    \"tuberculosis\": ['tuberculosis', 'tb'],\n",
    "    \"asthma\" : [\"asthma\"],\n",
    "    \"nocontext\": [\"\"],\n",
    "    \"endNote\": [\"Thank you\", \"This was helpful!\", \"See you later!\"]\n",
    "}\n",
    "context1 = {\n",
    "    \"diagnosis\":[\"if i have\", \"if he has\", \"if she has\", \"if they have\", \"diagnosis\"],\n",
    "    \"medications\": [\"treatment\", \"medications\", \"medicine\"],\n",
    "    \"types\":[\"types\", \"variants\", \"stages\"],\n",
    "    \"facts\":[\"what is that?\",\"tell me\", \"when did\", \"what happens\"],\n",
    "    \"nocontext\":[\"\"]\n",
    "}\n",
    "\n",
    "context2= {\n",
    "    \"sideeffects\":[\"side effects\", \"careful\", \"effects\"],\n",
    "    \"preparation\":[\"preparation\", \"prepare for\", \"requirements\"],\n",
    "    \"duration\": [\"how long\", \"duration\"],\n",
    "    \"nocontext\":[\"\"]\n",
    "}\n",
    "\n",
    "actions= {\n",
    "    \"greeting\": [\"Hello\"],\n",
    "    \"asthmaDef\": [\"Asthma Definition\"],\n",
    "    \"covidDef\": [\"Covid Definition\"],\n",
    "    \"tbDef\": [\"Covid Definition\"],\n",
    "    \"endNote\": [\"Thanks for chatting\"],\n",
    "    \"covidDiag\":[\"PCR Test\"],\n",
    "    \"asthmaDiag\":[\"Asthma Diagnosis\"],\n",
    "    \"tbDiag\":[\"Tb diagnosis\"],\n",
    "    \"noContext\": [\"Sorry didnt Understand the question. please specify in details\"],\n",
    "    \"covidvariants\": [\"covid variants\"],\n",
    "    \"ashtmavariants\": [\"asthma variants\"],\n",
    "    \"tbvariants\":[\"Tb variants\"],\n",
    "    \"covidMeds\": [\"covidMedications\"],\n",
    "    \"tbMeds\": [\"Tb meds\"],\n",
    "    \"asthmaMeds\":[\"asthma meds\"]\n",
    "\n",
    "}\n"
   ]
  },
  {
   "cell_type": "code",
   "execution_count": 13,
   "metadata": {},
   "outputs": [],
   "source": [
    "def printContext(text):\n",
    "    diseaseaseContext=\"nocontext\"\n",
    "    contexta=\"nocontext\"\n",
    "    contextb=\"nocontext\"\n",
    "    for key in mainQuery:\n",
    "        for keyword in mainQuery[key]:\n",
    "            if keyword in text:\n",
    "                diseaseaseContext=key\n",
    "                break\n",
    "        else:\n",
    "            continue\n",
    "        break\n",
    "    for key in context1:\n",
    "        for keyword in context1[key]:\n",
    "            if keyword in text:\n",
    "                contexta=key\n",
    "                break\n",
    "        else:\n",
    "            continue\n",
    "        break\n",
    "    for key in context2:\n",
    "        for keyword in context2[key]:\n",
    "            if keyword in text:\n",
    "                contextb=key\n",
    "                break\n",
    "        else:\n",
    "            continue\n",
    "        break\n",
    "    return(diseaseaseContext, contexta, contextb)"
   ]
  },
  {
   "cell_type": "code",
   "execution_count": 38,
   "metadata": {},
   "outputs": [
    {
     "name": "stdout",
     "output_type": "stream",
     "text": [
      "('asthma', 'facts', 'sideeffects')\n"
     ]
    }
   ],
   "source": [
    "states= list()\n",
    "for key in sorted(mainQuery):\n",
    "    for context in sorted(context1):\n",
    "        for  intent in sorted(context2):\n",
    "            states.append((key,context, intent))\n",
    "print(states[7])"
   ]
  },
  {
   "cell_type": "code",
   "execution_count": 23,
   "metadata": {},
   "outputs": [
    {
     "name": "stdout",
     "output_type": "stream",
     "text": [
      "0\n",
      "15\n"
     ]
    }
   ],
   "source": [
    "print (len(states))\n",
    "print (len(actions))\n",
    "\n"
   ]
  },
  {
   "cell_type": "code",
   "execution_count": 50,
   "metadata": {},
   "outputs": [
    {
     "name": "stdout",
     "output_type": "stream",
     "text": [
      "41\n"
     ]
    }
   ],
   "source": [
    "import numpy as np\n",
    "\n",
    "#set up  mapping and inverse mapping to find corresponeding state or number\n",
    "numbertoState=dict()\n",
    "statetoNumber=dict()\n",
    "for i,state in enumerate(states):\n",
    "    numbertoState[i]= state\n",
    "    statetoNumber[state]=i\n",
    "\n",
    "\n",
    "\n"
   ]
  },
  {
   "cell_type": "code",
   "execution_count": 45,
   "metadata": {},
   "outputs": [
    {
     "name": "stdout",
     "output_type": "stream",
     "text": [
      "(120, 120)\n",
      "[0. 0. 0. 0. 0. 0. 0. 0. 0. 0. 0. 0. 0. 0. 0. 0. 0. 0. 0. 0. 0. 0. 0. 0.\n",
      " 0. 0. 0. 0. 0. 0. 0. 0. 0. 0. 0. 0. 0. 0. 0. 0. 1. 1. 1. 1. 1. 1. 1. 1.\n",
      " 1. 1. 1. 1. 1. 1. 1. 1. 1. 1. 1. 1. 0. 0. 0. 0. 0. 0. 0. 0. 0. 0. 0. 0.\n",
      " 0. 0. 0. 0. 0. 0. 0. 0. 0. 0. 0. 0. 0. 0. 0. 0. 0. 0. 0. 0. 0. 0. 0. 0.\n",
      " 0. 0. 0. 0. 0. 0. 0. 0. 0. 0. 0. 0. 0. 0. 0. 0. 0. 0. 0. 0. 0. 0. 0. 0.]\n"
     ]
    }
   ],
   "source": [
    "#reward map----- old state to new state reward\n",
    "reward= np.zeros((len(states), len(states)),dtype=float)\n",
    "print(reward.shape)\n",
    "# since we know we have to somehow end the convo. lets set maximum reward if the next state is ending the convo\n",
    "for i,lastState in enumerate(states):\n",
    "    for j,nextState in enumerate(states):\n",
    "        if \"endNote\" in nextState:\n",
    "            reward[i][j] =1\n"
   ]
  },
  {
   "cell_type": "code",
   "execution_count": null,
   "metadata": {},
   "outputs": [],
   "source": [
    "#start q learn algo\n",
    "# Initialize parameters\n",
    "gamma = 0.75 # Discount factor \n",
    "alpha = 0.9 # Learning rate "
   ]
  },
  {
   "cell_type": "code",
   "execution_count": null,
   "metadata": {},
   "outputs": [],
   "source": [
    "qTable= np.zeros((len(states), len(actions)), dtype=float)"
   ]
  }
 ],
 "metadata": {
  "interpreter": {
   "hash": "1df8ee6452e1678db1e0875977bd5400d1d78639c0014c45e3c78604e6a7f149"
  },
  "kernelspec": {
   "display_name": "Python 3.9.12 64-bit",
   "language": "python",
   "name": "python3"
  },
  "language_info": {
   "codemirror_mode": {
    "name": "ipython",
    "version": 3
   },
   "file_extension": ".py",
   "mimetype": "text/x-python",
   "name": "python",
   "nbconvert_exporter": "python",
   "pygments_lexer": "ipython3",
   "version": "3.9.12"
  },
  "orig_nbformat": 4
 },
 "nbformat": 4,
 "nbformat_minor": 2
}
