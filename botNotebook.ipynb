{
 "cells": [
  {
   "cell_type": "code",
   "execution_count": 64,
   "metadata": {},
   "outputs": [],
   "source": [
    "\n",
    "mainQuery= {\n",
    "    \"greeting\": [\"Hi\", \"Hello\", \"How are you?\"],\n",
    "    \"covid\": [\"covid\", \"covid-19\", \"covid19\", \"sars-cov\"],\n",
    "    \"tuberculosis\": ['tuberculosis', 'tb'],\n",
    "    \"asthma\" : [\"asthma\"],\n",
    "    \"nocontext\": [\"\"],\n",
    "    \"endNote\": [\"Thank you\", \"This was helpful!\", \"See you later!\"]\n",
    "}\n",
    "context1 = {\n",
    "    \"diagnosis\":[\"if i have\", \"if he has\", \"if she has\", \"if they have\", \"diagnosis\"],\n",
    "    \"medications\": [\"treatment\", \"medications\", \"medicine\"],\n",
    "    \"types\":[\"types\", \"variants\", \"stages\"],\n",
    "    \"facts\":[\"what is that?\",\"tell me\", \"when did\", \"what happens\"],\n",
    "    \"nocontext\":[\"\"]\n",
    "}\n",
    "\n",
    "context2= {\n",
    "    \"sideeffects\":[\"side effects\", \"careful\", \"effects\"],\n",
    "    \"preparation\":[\"preparation\", \"prepare for\", \"requirements\"],\n",
    "    \"duration\": [\"how long\", \"duration\"],\n",
    "    \"nocontext\":[\"\"]\n",
    "}\n",
    "\n",
    "actions= {\n",
    "    \"greeting\": [\"Hello\"],\n",
    "    \"asthmaDef\": [\"Asthma Definition\"],\n",
    "    \"covidDef\": [\"Covid Definition\"],\n",
    "    \"tbDef\": [\"Covid Definition\"],\n",
    "    \"endNote\": [\"Thanks for chatting\"],\n",
    "    \"covidDiag\":[\"PCR Test\"],\n",
    "    \"asthmaDiag\":[\"Asthma Diagnosis\"],\n",
    "    \"tbDiag\":[\"Tb diagnosis\"],\n",
    "    \"noContext\": [\"Sorry didnt Understand the question. please specify in details\"],\n",
    "    \"covidvariants\": [\"covid variants\"],\n",
    "    \"ashtmavariants\": [\"asthma variants\"],\n",
    "    \"tbvariants\":[\"Tb variants\"],\n",
    "    \"covidMeds\": [\"covidMedications\"],\n",
    "    \"tbMeds\": [\"Tb meds\"],\n",
    "    \"asthmaMeds\":[\"asthma meds\"],\n",
    "    \"unrelated\": [\"sorry I can only answer for question I am allowed to.\"],\n",
    "    \"nocontext\":[\"\"]\n",
    "\n",
    "}\n"
   ]
  },
  {
   "cell_type": "code",
   "execution_count": 65,
   "metadata": {},
   "outputs": [],
   "source": [
    "diseaseaseContext=\"nocontext\"\n",
    "contexta=\"nocontext\"\n",
    "contextb=\"nocontext\"\n",
    "def getContext(text, prevContext):\n",
    "    text=text.lower()\n",
    "    keys= list(prevContext)\n",
    "    for key in mainQuery:\n",
    "        for keyword in mainQuery[key]:\n",
    "            if keyword.lower() in text:\n",
    "                if key==\"nocontext\":\n",
    "                    continue\n",
    "                keys[0]=key\n",
    "                break\n",
    "        else:\n",
    "            continue\n",
    "        break\n",
    "    for key in context1:\n",
    "        for keyword in context1[key]:\n",
    "            if keyword.lower()  in text:\n",
    "                if key==\"nocontext\":\n",
    "                    continue\n",
    "                keys[1]=key\n",
    "                break\n",
    "        else:\n",
    "            continue\n",
    "        break\n",
    "    for key in context2:\n",
    "        for keyword in context2[key]:\n",
    "            if keyword.lower()  in text:\n",
    "                if key==\"nocontext\":\n",
    "                    continue\n",
    "                keys[2]=key\n",
    "                break\n",
    "        else:\n",
    "            continue\n",
    "        break\n",
    "    return (keys[0], keys[1], keys[2])\n"
   ]
  },
  {
   "cell_type": "code",
   "execution_count": 66,
   "metadata": {},
   "outputs": [
    {
     "name": "stdout",
     "output_type": "stream",
     "text": [
      "('asthma', 'facts', 'sideeffects')\n"
     ]
    }
   ],
   "source": [
    "states= list()\n",
    "for key in sorted(mainQuery):\n",
    "    for context in sorted(context1):\n",
    "        for  intent in sorted(context2):\n",
    "            states.append((key,context, intent))\n",
    "print(states[7])"
   ]
  },
  {
   "cell_type": "code",
   "execution_count": 67,
   "metadata": {},
   "outputs": [
    {
     "name": "stdout",
     "output_type": "stream",
     "text": [
      "120\n",
      "17\n"
     ]
    }
   ],
   "source": [
    "print (len(states))\n",
    "print (len(actions))\n",
    "\n"
   ]
  },
  {
   "cell_type": "code",
   "execution_count": 68,
   "metadata": {},
   "outputs": [],
   "source": [
    "import numpy as np\n",
    "\n",
    "#set up  mapping and inverse mapping to find corresponeding state or number\n",
    "numbertoState=dict()\n",
    "statetoNumber=dict()\n",
    "for i,state in enumerate(states):\n",
    "    numbertoState[i]= state\n",
    "    statetoNumber[state]=i\n",
    "numbertoAction=dict()\n",
    "actiontoNumber=dict()\n",
    "for i,action in enumerate(actions):\n",
    "    numbertoAction[i]= action\n",
    "    actiontoNumber[action]=i\n",
    "\n"
   ]
  },
  {
   "cell_type": "code",
   "execution_count": 69,
   "metadata": {},
   "outputs": [
    {
     "name": "stdout",
     "output_type": "stream",
     "text": [
      "(120, 120)\n"
     ]
    }
   ],
   "source": [
    "#reward map----- old state to new state reward\n",
    "reward= np.zeros((len(states), len(states)),dtype=float)\n",
    "print(reward.shape)\n",
    "# since we know we have to somehow end the convo. lets set maximum reward if the next state is ending the convo\n",
    "for i,lastState in enumerate(states):\n",
    "    for j,nextState in enumerate(states):\n",
    "        if \"endNote\" in nextState:\n",
    "            reward[i][j] =1\n"
   ]
  },
  {
   "cell_type": "code",
   "execution_count": 70,
   "metadata": {},
   "outputs": [],
   "source": [
    "qTable= np.zeros((len(states), len(actions)), dtype=float)\n",
    "with open('test.npy','rb')as f:\n",
    "    f.seek(0)\n",
    "    loadedFile=np.load(f ,allow_pickle=False)\n",
    "    if loadedFile.shape== qTable.shape:\n",
    "        pass\n",
    "        qTable=loadedFile\n",
    "        print(\"Loaded old backup\")"
   ]
  },
  {
   "cell_type": "markdown",
   "metadata": {},
   "source": [
    "Qtable Training"
   ]
  },
  {
   "cell_type": "code",
   "execution_count": 71,
   "metadata": {},
   "outputs": [
    {
     "name": "stdout",
     "output_type": "stream",
     "text": [
      "0.0\n",
      "('greeting', 'nocontext', 'nocontext')\n",
      "['Hello']\n",
      "0.0\n",
      "('covid', 'nocontext', 'nocontext')\n",
      "['Hello']\n",
      "0.0\n",
      "('covid', 'nocontext', 'nocontext')\n",
      "['Hello']\n",
      "0.0\n",
      "('covid', 'nocontext', 'nocontext')\n",
      "['Hello']\n"
     ]
    }
   ],
   "source": [
    "import random\n",
    "#start q learn algo\n",
    "# Initialize parameters\n",
    "gamma = 0.75 # Discount factor \n",
    "alpha = 0.9 # Learning rate \n",
    "epsilon = 0.1\n",
    "next_stateIndex=0\n",
    "stateIndex=0\n",
    "actionNumber=0\n",
    "episodeRun=True\n",
    "reward=0\n",
    "\n",
    "prevContext= (\"nocontext\", \"nocontext\", \"nocontext\")\n",
    "prevState=statetoNumber[prevContext]\n",
    "while episodeRun:\n",
    "\n",
    "    text=input(\"\")\n",
    "    state=getContext(text, numbertoState[prevState])\n",
    "    stateIndex=statetoNumber[state]\n",
    "\n",
    "    next_max = np.max(qTable[stateIndex])\n",
    "    \n",
    "    old_value = qTable[prevState][actionNumber]\n",
    "    print(old_value)\n",
    "    new_value=(1 - alpha) * old_value + alpha * (reward + gamma * next_max)\n",
    "    \n",
    "    qTable[prevState][actionNumber] = new_value\n",
    "\n",
    "    prevState=stateIndex\n",
    "    print(numbertoState[stateIndex])\n",
    "\n",
    "    if np.random.uniform(0, 1) < epsilon:\n",
    "            actionNumber = random.randint(0,len(actions))# Explore action space\n",
    "    else:\n",
    "            actionNumber= np.argmax(qTable[stateIndex]) # Exploit learned values\n",
    "\n",
    "    print(actions[numbertoAction[actionNumber]])\n",
    "        \n",
    "    feedback=input(\"Helpful Y/N? or Quit Q\").lower()\n",
    "    if feedback=='y':\n",
    "        reward=1\n",
    "    elif feedback=='n':\n",
    "        reward=-1\n",
    "    else:\n",
    "        episodeRun=False\n",
    "\n",
    "#print(qTable)\n"
   ]
  },
  {
   "cell_type": "code",
   "execution_count": null,
   "metadata": {},
   "outputs": [
    {
     "data": {
      "text/plain": [
       "Text(0.5, 1.0, 'Matplotlib PLot NumPy Array')"
      ]
     },
     "execution_count": 37,
     "metadata": {},
     "output_type": "execute_result"
    },
    {
     "data": {
      "image/png": "[encoded data removed]",
      "text/plain": [
       "<Figure size 432x288 with 1 Axes>"
      ]
     },
     "metadata": {
      "needs_background": "light"
     },
     "output_type": "display_data"
    }
   ],
   "source": [
    "#plot the map to see differences\n",
    "import matplotlib.pyplot as plt\n",
    "plt.imshow( qTable, cmap = 'rainbow' , interpolation = 'bilinear')\n",
    "plt.title(\"Matplotlib PLot NumPy Array\") "
   ]
  },
  {
   "cell_type": "code",
   "execution_count": null,
   "metadata": {},
   "outputs": [],
   "source": [
    "with open('test.npy', 'wb') as f:\n",
    "    np.save(f, qTable)"
   ]
  },
  {
   "cell_type": "code",
   "execution_count": null,
   "metadata": {},
   "outputs": [
    {
     "name": "stdout",
     "output_type": "stream",
     "text": [
      "[-0.9        -0.9         0.32378078 -0.39170777  0.          0.\n",
      "  0.          0.          0.          0.          0.          0.\n",
      "  0.          0.          2.08750911  0.        ]\n",
      "('covid', 'nocontext', 'nocontext')\n",
      "asthmaMeds\n",
      "93\n"
     ]
    }
   ],
   "source": [
    "print (qTable[33])\n",
    "print(numbertoState[33])\n",
    "print(numbertoAction[np.argmax(qTable[33])])\n",
    "print(statetoNumber[(\"nocontext\",\"nocontext\",\"nocontext\")])"
   ]
  }
 ],
 "metadata": {
  "interpreter": {
   "hash": "1df8ee6452e1678db1e0875977bd5400d1d78639c0014c45e3c78604e6a7f149"
  },
  "kernelspec": {
   "display_name": "Python 3 (ipykernel)",
   "language": "python",
   "name": "python3"
  },
  "language_info": {
   "codemirror_mode": {
    "name": "ipython",
    "version": 3
   },
   "file_extension": ".py",
   "mimetype": "text/x-python",
   "name": "python",
   "nbconvert_exporter": "python",
   "pygments_lexer": "ipython3",
   "version": "3.9.12"
  }
 },
 "nbformat": 4,
 "nbformat_minor": 2
}
